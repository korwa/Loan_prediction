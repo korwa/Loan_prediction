{
 "cells": [
  {
   "cell_type": "code",
   "execution_count": null,
   "id": "9cb9826c",
   "metadata": {},
   "outputs": [],
   "source": [
    "import numpy as np\n",
    "import pandas as pd"
   ]
  },
  {
   "cell_type": "code",
   "execution_count": null,
   "id": "dc3f96c5",
   "metadata": {},
   "outputs": [],
   "source": [
    "df = pd.read_excel(\"loans_current.xlsx\")"
   ]
  },
  {
   "cell_type": "code",
   "execution_count": null,
   "id": "11a0a511",
   "metadata": {},
   "outputs": [],
   "source": [
    "df.isnull().sum()"
   ]
  },
  {
   "cell_type": "code",
   "execution_count": null,
   "id": "f0b6fbd3",
   "metadata": {},
   "outputs": [],
   "source": [
    "df.head()"
   ]
  },
  {
   "cell_type": "code",
   "execution_count": null,
   "id": "154cb9ea",
   "metadata": {},
   "outputs": [],
   "source": [
    "loan=df.drop(['principal_amount_proposed','principal_amount','principal_disbursed_derived','principal_amount',\n",
    "             'repay_every','term_frequency', 'duedate','obligations_met_on_date','loan_status_600','Unnamed: 24','total_withdrawals_derived','account_balance_derived'],axis=1)"
   ]
  },
  {
   "cell_type": "code",
   "execution_count": null,
   "id": "ed9ec636",
   "metadata": {},
   "outputs": [],
   "source": [
    "#rename columns\n",
    "dict = {'approved_principal':'loan_amount',\n",
    "       'principal_amount_arrears':'loan_arrear_amount',\n",
    "       'gender_cv_id ':'client_gender'\n",
    "       }\n",
    "loan.rename(columns = dict, inplace = True)"
   ]
  },
  {
   "cell_type": "code",
   "execution_count": null,
   "id": "d3e4f9fe",
   "metadata": {},
   "outputs": [],
   "source": [
    "#checking for null values\n",
    "loan.isnull().sum()"
   ]
  },
  {
   "cell_type": "code",
   "execution_count": null,
   "id": "efdcde24",
   "metadata": {},
   "outputs": [],
   "source": [
    "# drop null values\n",
    "loan=loan.dropna()\n",
    "loan.isnull().sum()"
   ]
  },
  {
   "cell_type": "code",
   "execution_count": null,
   "id": "875bb644",
   "metadata": {},
   "outputs": [],
   "source": [
    "loan.info()"
   ]
  },
  {
   "cell_type": "code",
   "execution_count": null,
   "id": "75943c3c",
   "metadata": {},
   "outputs": [],
   "source": [
    "column_names = loan.columns\n",
    "print(column_names)"
   ]
  },
  {
   "cell_type": "code",
   "execution_count": null,
   "id": "cf19ed26",
   "metadata": {},
   "outputs": [],
   "source": [
    "# Label ratio\n",
    "loan['Loan_status'].value_counts(normalize=True).get(1, 0) * 100\n"
   ]
  },
  {
   "cell_type": "code",
   "execution_count": null,
   "id": "bb73949c",
   "metadata": {},
   "outputs": [],
   "source": [
    "import matplotlib.pyplot as plt\n",
    "import seaborn as sns"
   ]
  },
  {
   "cell_type": "code",
   "execution_count": null,
   "id": "c520fc60",
   "metadata": {},
   "outputs": [],
   "source": [
    "# Assuming 'loan' is your DataFrame and 'Loan_status' is the binary label column\n",
    "label_counts = loan['Loan_status'].value_counts(normalize=True)\n",
    "\n",
    "# Create a bar chart to visualize the label ratio\n",
    "plt.figure(figsize=(6, 4))\n",
    "label_counts.plot(kind='bar', color=['#008ac5', '#00c698'])\n",
    "plt.xlabel('Loan Status')\n",
    "plt.ylabel('Percentage')\n",
    "plt.title('Loan Status Ratio')\n",
    "plt.xticks([0, 1], ['Non-Default', 'Default'], rotation=0)  # Customize labels if needed\n",
    "\n",
    "# Display the graph\n",
    "plt.tight_layout()\n",
    "plt.show()"
   ]
  },
  {
   "cell_type": "code",
   "execution_count": null,
   "id": "f7b3ac09",
   "metadata": {},
   "outputs": [],
   "source": [
    "import matplotlib.pyplot as plt\n",
    "plt.figure(figsize = (6,4))\n",
    "sns.countplot(x = 'gender_cv_id', hue = 'Loan_status', data = loan)"
   ]
  },
  {
   "cell_type": "code",
   "execution_count": null,
   "id": "07d6716c",
   "metadata": {},
   "outputs": [],
   "source": [
    "plt.figure(figsize = (6,4))\n",
    "sns.countplot(x = 'loan_year', hue = 'Loan_status', data = loan)"
   ]
  },
  {
   "cell_type": "code",
   "execution_count": null,
   "id": "3f8ff10a",
   "metadata": {},
   "outputs": [],
   "source": [
    "\n",
    "import seaborn as sns\n",
    "import matplotlib.pyplot as plt\n",
    "\n",
    "# Calculate the percentage of loan statuses per year\n",
    "percentage_df = (loan.groupby(['loan_year', 'Loan_status']).size() / loan.groupby('loan_year').size()).reset_index(name='percentage')\n",
    "\n",
    "# Create a countplot\n",
    "plt.figure(figsize=(8, 4))\n",
    "ax = sns.barplot(x='loan_year', y='percentage', hue='Loan_status', data=percentage_df)\n",
    "\n",
    "# Add percentage labels to the bars\n",
    "for p in ax.patches:\n",
    "    ax.annotate(f'{p.get_height()*100:.2f}%', (p.get_x() + p.get_width() / 2., p.get_height()), ha='center', va='bottom')\n",
    "\n",
    "# Set plot labels and title\n",
    "plt.xlabel('Loan Year')\n",
    "plt.ylabel('Percentage')\n",
    "plt.title('Loan Status Percentage by Year')\n",
    "\n",
    "# Show the plot\n",
    "plt.show()\n"
   ]
  },
  {
   "cell_type": "code",
   "execution_count": null,
   "id": "0e9faedb",
   "metadata": {},
   "outputs": [],
   "source": [
    "import seaborn as sns\n",
    "import matplotlib.pyplot as plt\n",
    "\n",
    "# Calculate the percentage of loan statuses per loan_status_id\n",
    "percentage_df = (loan.groupby(['loan_status_id', 'Loan_status']).size() / loan.groupby('loan_status_id').size()).reset_index(name='percentage')\n",
    "\n",
    "# Create a countplot\n",
    "plt.figure(figsize=(8, 4))\n",
    "ax = sns.barplot(x='loan_status_id', y='percentage', hue='Loan_status', data=percentage_df)\n",
    "\n",
    "# Add percentage labels to the bars\n",
    "for p in ax.patches:\n",
    "    ax.annotate(f'{p.get_height()*100:.2f}%', (p.get_x() + p.get_width() / 2., p.get_height()), ha='center', va='bottom')\n",
    "\n",
    "# Set plot labels and title\n",
    "plt.xlabel('Loan Status ID')\n",
    "plt.ylabel('Percentage')\n",
    "plt.title('Loan Status Percentage by Loan Status ID')\n",
    "\n",
    "# Show the plot\n",
    "plt.show()\n"
   ]
  },
  {
   "cell_type": "code",
   "execution_count": null,
   "id": "8c563360",
   "metadata": {},
   "outputs": [],
   "source": [
    "plt.figure(figsize=(4, 2))  # Adjust the figure size as needed\n",
    "\n",
    "sns.boxplot(x=loan['client_age'], showmeans=True, color='#008ac5')\n",
    "\n",
    "plt.xlabel('Client Age')\n",
    "plt.ylabel('Value')\n",
    "plt.title('Box Plot for Client Age')\n",
    "\n",
    "# Show the plot\n",
    "plt.show()"
   ]
  },
  {
   "cell_type": "code",
   "execution_count": null,
   "id": "8fe993fa",
   "metadata": {},
   "outputs": [],
   "source": [
    "# Set the desired font size for axis labels\n",
    "sns.set(font_scale=1)  # Adjust the value as needed to increase or decrease the font size\n",
    "\n",
    "# Create the pair plot\n",
    "sns.pairplot(loan)\n",
    "\n",
    "# Show the plot\n",
    "plt.show()"
   ]
  },
  {
   "cell_type": "code",
   "execution_count": null,
   "id": "3f2d3f6a",
   "metadata": {},
   "outputs": [],
   "source": [
    "corr_matrix = loan.corr()\n",
    "print(corr_matrix)"
   ]
  },
  {
   "cell_type": "code",
   "execution_count": null,
   "id": "77a29227",
   "metadata": {},
   "outputs": [],
   "source": [
    "upper = corr_matrix.where(np.triu(np.ones(corr_matrix.shape), k=1).astype(bool))\n",
    "upper"
   ]
  },
  {
   "cell_type": "code",
   "execution_count": null,
   "id": "c837d4f5",
   "metadata": {},
   "outputs": [],
   "source": [
    "import matplotlib.pyplot as plt\n",
    "import seaborn as sns\n",
    "\n",
    "# Generate a heatmap of the correlation matrix\n",
    "plt.figure(figsize=(8, 4))\n",
    "sns.heatmap(upper, annot=True, cmap='coolwarm', fmt=\".2f\")\n",
    "\n",
    "# Save the heatmap as an image\n",
    "plt.savefig('correlation_heatmap.png', format='png', dpi=300, bbox_inches='tight')"
   ]
  },
  {
   "cell_type": "code",
   "execution_count": null,
   "id": "0160c5bc",
   "metadata": {},
   "outputs": [],
   "source": [
    "import seaborn as sns\n",
    "import pandas as pd\n",
    "\n",
    "# Calculate the correlation matrix\n",
    "correlation_matrix = loan.corr()  # Replace 'your_dataframe' with 'loan'\n",
    "\n",
    "# Convert the upper triangle of the correlation matrix to a DataFrame\n",
    "upper = correlation_matrix.where(np.triu(np.ones(correlation_matrix.shape), k=1).astype(bool))\n",
    "\n",
    "# Display the upper triangle of the correlation matrix as a table\n",
    "upper = upper.stack().reset_index()\n",
    "upper.columns = ['Variable 1', 'Variable 2', 'Correlation']\n",
    "upper.to_csv('correlation_table.csv', index=False)  # Save as CSV file\n",
    "\n"
   ]
  },
  {
   "cell_type": "code",
   "execution_count": null,
   "id": "a83621ff",
   "metadata": {},
   "outputs": [],
   "source": [
    "data=loan"
   ]
  },
  {
   "cell_type": "code",
   "execution_count": null,
   "id": "fea411a4",
   "metadata": {},
   "outputs": [],
   "source": [
    "from sklearn.model_selection import train_test_split\n",
    "from sklearn.preprocessing import StandardScaler\n"
   ]
  },
  {
   "cell_type": "code",
   "execution_count": null,
   "id": "18fb25a5",
   "metadata": {},
   "outputs": [],
   "source": [
    "# Features for GRU model\n",
    "gru_features = [\n",
    "    \"loan_amount\", \"principal_writtenoff_derived\", \"gender_cv_id\", \n",
    "    \"loan_year\", \"number_of_repayments\",'loan_arrear_amount'\n",
    "    \"client_age\", \"total_deposits_derived\", \"account_balance\", \n",
    "     \"days_in_arrears\"\n",
    "]\n"
   ]
  },
  {
   "cell_type": "code",
   "execution_count": null,
   "id": "5107d293",
   "metadata": {},
   "outputs": [],
   "source": [
    "# Splitting data into training and testing sets\n",
    "X = data[gru_features]\n",
    "y = data[\"Loan_status\"]\n",
    "X_train, X_test, y_train, y_test = train_test_split(X, y, test_size=0.2, random_state=42)\n"
   ]
  },
  {
   "cell_type": "code",
   "execution_count": null,
   "id": "eb251e92",
   "metadata": {},
   "outputs": [],
   "source": [
    "# Normalizing the features for the GRU model\n",
    "scaler = StandardScaler()\n",
    "X_train_scaled = scaler.fit_transform(X_train)\n",
    "X_test_scaled = scaler.transform(X_test)\n",
    "\n",
    "X_train_scaled.shape, X_test_scaled.shape, y_train.shape, y_test.shape\n"
   ]
  },
  {
   "cell_type": "markdown",
   "id": "a42fba1c",
   "metadata": {},
   "source": [
    "The data has been successfully split into training and testing sets. We have 694,739 samples in the training set and 173,685 samples in the testing set, with each sample having 11 features.\n",
    "\n",
    "Let's get started with defining and training the GRU model\n"
   ]
  },
  {
   "cell_type": "code",
   "execution_count": null,
   "id": "70773fb9",
   "metadata": {},
   "outputs": [],
   "source": [
    "import tensorflow as tf\n",
    "from tensorflow.keras.models import Sequential\n",
    "from tensorflow.keras.layers import Dense, GRU\n"
   ]
  },
  {
   "cell_type": "code",
   "execution_count": null,
   "id": "29af8806",
   "metadata": {},
   "outputs": [],
   "source": [
    "# Defining the GRU model\n",
    "model_gru = Sequential([\n",
    "    GRU(32, input_shape=(X_train_scaled.shape[1], 1), return_sequences=True),\n",
    "    GRU(16, return_sequences=False),\n",
    "    Dense(1, activation='sigmoid')\n",
    "])\n"
   ]
  },
  {
   "cell_type": "code",
   "execution_count": null,
   "id": "cf98f85e",
   "metadata": {},
   "outputs": [],
   "source": [
    "# Compiling the model\n",
    "model_gru.compile(optimizer='adam', loss='binary_crossentropy', metrics=['accuracy'])\n"
   ]
  },
  {
   "cell_type": "code",
   "execution_count": null,
   "id": "4166e70f",
   "metadata": {},
   "outputs": [],
   "source": [
    "# Reshaping data for GRU input\n",
    "X_train_reshaped = X_train_scaled.reshape(X_train_scaled.shape[0], X_train_scaled.shape[1], 1)\n",
    "X_test_reshaped = X_test_scaled.reshape(X_test_scaled.shape[0], X_test_scaled.shape[1], 1)\n"
   ]
  },
  {
   "cell_type": "code",
   "execution_count": null,
   "id": "45230358",
   "metadata": {},
   "outputs": [],
   "source": [
    "# Training the model\n",
    "history_gru = model_gru.fit(X_train_reshaped, y_train, epochs=5, batch_size=256, validation_data=(X_test_reshaped, y_test), verbose=1)\n"
   ]
  },
  {
   "cell_type": "code",
   "execution_count": null,
   "id": "2470d02b",
   "metadata": {},
   "outputs": [],
   "source": [
    "train_predictions = model_gru.predict(X_train).flatten()\n",
    "train_results = pd.DataFrame(data={'Train Predictions': train_predictions,\n",
    "                                  'Actual':y_train})\n",
    "train_results.head()"
   ]
  },
  {
   "cell_type": "code",
   "execution_count": null,
   "id": "63ad3203",
   "metadata": {},
   "outputs": [],
   "source": [
    "test_predictions = model_gru.predict(X_test).flatten()\n",
    "test_results = pd.DataFrame(data={'Test Predictions': test_predictions,\n",
    "                                  'Actual': y_test})\n",
    "test_results.head()"
   ]
  },
  {
   "cell_type": "code",
   "execution_count": null,
   "id": "4cbcd7b2",
   "metadata": {},
   "outputs": [],
   "source": [
    "# Predicting on the test set\n",
    "y_gru_pred = model_gru.predict(X_test_reshaped)\n"
   ]
  },
  {
   "cell_type": "code",
   "execution_count": null,
   "id": "702e25bf",
   "metadata": {},
   "outputs": [],
   "source": [
    "from sklearn.ensemble import GradientBoostingClassifier\n"
   ]
  },
  {
   "cell_type": "code",
   "execution_count": null,
   "id": "8857fc01",
   "metadata": {},
   "outputs": [],
   "source": [
    "# Initialize the GBT model\n",
    "gbt_model = GradientBoostingClassifier(n_estimators=100, learning_rate=0.1, random_state=42)\n"
   ]
  },
  {
   "cell_type": "code",
   "execution_count": null,
   "id": "83986a06",
   "metadata": {},
   "outputs": [],
   "source": [
    "# Train the GBT model\n",
    "gbt_model.fit(X_train, y_train)\n"
   ]
  },
  {
   "cell_type": "code",
   "execution_count": null,
   "id": "ccf172b5",
   "metadata": {},
   "outputs": [],
   "source": [
    "# Predicting on the test set\n",
    "y_gbt_pred = gbt_model.predict(X_test)\n"
   ]
  },
  {
   "cell_type": "markdown",
   "id": "c97f0208",
   "metadata": {},
   "source": [
    "Prepare Data for Hybrid Model: To prepare the input for the hybrid model, we need to combine the original features with the predictions from the GRU and GBT models"
   ]
  },
  {
   "cell_type": "code",
   "execution_count": null,
   "id": "95f54446",
   "metadata": {},
   "outputs": [],
   "source": [
    "# Combine original features with predictions from GRU and GBT\n",
    "X_test_hybrid = np.column_stack((X_test, y_gru_pred, y_gbt_pred))\n"
   ]
  },
  {
   "cell_type": "code",
   "execution_count": null,
   "id": "85177b30",
   "metadata": {},
   "outputs": [],
   "source": [
    "# Define the hybrid model\n",
    "model_hybrid = Sequential([\n",
    "    Dense(64, activation='relu', input_shape=(X_test_hybrid.shape[1],)),\n",
    "    Dense(32, activation='relu'),\n",
    "    Dense(1, activation='sigmoid')\n",
    "])\n"
   ]
  },
  {
   "cell_type": "code",
   "execution_count": null,
   "id": "962d5e61",
   "metadata": {},
   "outputs": [],
   "source": [
    "# Compile the model\n",
    "model_hybrid.compile(optimizer='adam', loss='binary_crossentropy', metrics=['accuracy'])\n"
   ]
  },
  {
   "cell_type": "code",
   "execution_count": null,
   "id": "0188a1b7",
   "metadata": {},
   "outputs": [],
   "source": [
    "# Train the model\n",
    "model_hybrid.fit(X_test_hybrid, y_test, epochs=5, batch_size=256, verbose=1)\n"
   ]
  },
  {
   "cell_type": "code",
   "execution_count": null,
   "id": "9fcdbb8d",
   "metadata": {},
   "outputs": [],
   "source": [
    "# Predict with the hybrid model\n",
    "y_hybrid_pred = model_hybrid.predict(X_test_hybrid)\n"
   ]
  },
  {
   "cell_type": "code",
   "execution_count": null,
   "id": "8e7fcc40",
   "metadata": {},
   "outputs": [],
   "source": [
    "from sklearn.metrics import accuracy_score, precision_score, recall_score, f1_score\n"
   ]
  },
  {
   "cell_type": "code",
   "execution_count": null,
   "id": "291203b9",
   "metadata": {},
   "outputs": [],
   "source": [
    "accuracy = accuracy_score(y_test, y_hybrid_pred > 0.5)\n",
    "precision = precision_score(y_test, y_hybrid_pred > 0.5)\n",
    "recall = recall_score(y_test, y_hybrid_pred > 0.5)\n",
    "f1 = f1_score(y_test, y_hybrid_pred > 0.5)\n"
   ]
  },
  {
   "cell_type": "code",
   "execution_count": null,
   "id": "38dddab2",
   "metadata": {},
   "outputs": [],
   "source": [
    "print(accuracy,precision,recall,f1)"
   ]
  },
  {
   "cell_type": "code",
   "execution_count": null,
   "id": "51787f22",
   "metadata": {},
   "outputs": [],
   "source": [
    "\n",
    "\n",
    "# Assuming you have these metrics calculated\n",
    "accuracy = 0.98\n",
    "precision = 0.99\n",
    "recall = 0.93\n",
    "f1 = 0.96\n",
    "\n",
    "# Create a DataFrame\n",
    "metrics_df = pd.DataFrame({'Metric': ['Accuracy', 'Precision', 'Recall', 'F1-Score'],\n",
    "                           'Value': [accuracy, precision, recall, f1]})\n",
    "\n",
    "# Print the DataFrame\n",
    "print(metrics_df)\n"
   ]
  },
  {
   "cell_type": "markdown",
   "id": "8dde145a",
   "metadata": {},
   "source": [
    "Logistic regression Model"
   ]
  },
  {
   "cell_type": "code",
   "execution_count": null,
   "id": "b8e4a555",
   "metadata": {},
   "outputs": [],
   "source": [
    "from sklearn.model_selection import train_test_split\n",
    "from sklearn.linear_model import LogisticRegression\n",
    "from sklearn.metrics import accuracy_score, classification_report, confusion_matrix\n"
   ]
  },
  {
   "cell_type": "code",
   "execution_count": null,
   "id": "996a2882",
   "metadata": {},
   "outputs": [],
   "source": [
    "# Define your features (independent variables) and the target (dependent variable)\n",
    "features = ['loan_amount', 'principal_writtenoff_derived', 'gender_cv_id', 'loan_year',\n",
    "            'number_of_repayments', 'client_age', 'total_deposits_derived', 'account_balance']\n",
    "\n",
    "target = 'Loan_status'"
   ]
  },
  {
   "cell_type": "code",
   "execution_count": null,
   "id": "4ac51205",
   "metadata": {},
   "outputs": [],
   "source": [
    "# Split the data into training and testing sets\n",
    "X = data[features]\n",
    "y = data[target]"
   ]
  },
  {
   "cell_type": "code",
   "execution_count": null,
   "id": "1a102d85",
   "metadata": {},
   "outputs": [],
   "source": [
    "# Split the data into a training set and a testing set (e.g., 80% training, 20% testing)\n",
    "X_train, X_test, y_train, y_test = train_test_split(X, y, test_size=0.2, random_state=42)\n"
   ]
  },
  {
   "cell_type": "code",
   "execution_count": null,
   "id": "7a70ce6a",
   "metadata": {},
   "outputs": [],
   "source": [
    "# Initialize the logistic regression model\n",
    "logistic_model = LogisticRegression()\n"
   ]
  },
  {
   "cell_type": "code",
   "execution_count": null,
   "id": "195e85d8",
   "metadata": {},
   "outputs": [],
   "source": [
    "# Fit the model on the training data\n",
    "logistic_model.fit(X_train, y_train)\n"
   ]
  },
  {
   "cell_type": "code",
   "execution_count": null,
   "id": "fe5ea37c",
   "metadata": {},
   "outputs": [],
   "source": [
    "# Make predictions on the testing data\n",
    "y_pred = logistic_model.predict(X_test)"
   ]
  },
  {
   "cell_type": "code",
   "execution_count": null,
   "id": "9a878bc1",
   "metadata": {},
   "outputs": [],
   "source": [
    "# Evaluate the model\n",
    "accuracy = accuracy_score(y_test, y_pred)\n",
    "conf_matrix = confusion_matrix(y_test, y_pred)\n",
    "classification_rep = classification_report(y_test, y_pred)"
   ]
  },
  {
   "cell_type": "code",
   "execution_count": null,
   "id": "3d2b2cb4",
   "metadata": {},
   "outputs": [],
   "source": [
    "# Print the results\n",
    "print(f'Accuracy: {accuracy}')\n",
    "print(f'Confusion Matrix:\\n{conf_matrix}')\n",
    "print(f'Classification Report:\\n{classification_rep}')"
   ]
  },
  {
   "cell_type": "code",
   "execution_count": null,
   "id": "e7f97ca9",
   "metadata": {},
   "outputs": [],
   "source": []
  }
 ],
 "metadata": {
  "kernelspec": {
   "display_name": "Python 3 (ipykernel)",
   "language": "python",
   "name": "python3"
  },
  "language_info": {
   "codemirror_mode": {
    "name": "ipython",
    "version": 3
   },
   "file_extension": ".py",
   "mimetype": "text/x-python",
   "name": "python",
   "nbconvert_exporter": "python",
   "pygments_lexer": "ipython3",
   "version": "3.9.12"
  }
 },
 "nbformat": 4,
 "nbformat_minor": 5
}
